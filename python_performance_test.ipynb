{
 "cells": [
  {
   "cell_type": "code",
   "execution_count": 1,
   "metadata": {
    "collapsed": true
   },
   "outputs": [],
   "source": [
    "import pandas as pd\n",
    "import numpy as np\n",
    "from pattern import web\n",
    "import requests\n",
    "from Bio import Entrez\n",
    "import json"
   ]
  },
  {
   "cell_type": "code",
   "execution_count": 2,
   "metadata": {
    "collapsed": false
   },
   "outputs": [
    {
     "name": "stdout",
     "output_type": "stream",
     "text": [
      "total run time:\n",
      "5.22608995438\n"
     ]
    }
   ],
   "source": [
    "from time import time \n",
    "t = time() \n",
    "lista=[1,2,3,4,5,6,7,8,9,13,34,53,42,44] \n",
    "listb=[2,4,6,9,23] \n",
    "intersection=[] \n",
    "for i in range (1000000): \n",
    " for a in lista: \n",
    "     for b in listb: \n",
    "         if a == b: \n",
    "             intersection.append(a) \n",
    "\n",
    "\n",
    "print \"total run time:\"\n",
    "print time()-t"
   ]
  },
  {
   "cell_type": "code",
   "execution_count": 3,
   "metadata": {
    "collapsed": false
   },
   "outputs": [
    {
     "name": "stdout",
     "output_type": "stream",
     "text": [
      "total run time:\n",
      "1.73154401779\n"
     ]
    }
   ],
   "source": [
    "from time import time \n",
    "t = time() \n",
    "lista=[1,2,3,4,5,6,7,8,9,13,34,53,42,44] \n",
    "listb=[2,4,6,9,23] \n",
    "intersection=[] \n",
    "for i in range (1000000): \n",
    "    list(set(lista)&set(listb)) \n",
    "print \"total run time:\"\n",
    "print time()-t"
   ]
  }
 ],
 "metadata": {
  "kernelspec": {
   "display_name": "Python 2",
   "language": "python",
   "name": "python2"
  },
  "language_info": {
   "codemirror_mode": {
    "name": "ipython",
    "version": 2
   },
   "file_extension": ".py",
   "mimetype": "text/x-python",
   "name": "python",
   "nbconvert_exporter": "python",
   "pygments_lexer": "ipython2",
   "version": "2.7.6"
  }
 },
 "nbformat": 4,
 "nbformat_minor": 0
}
