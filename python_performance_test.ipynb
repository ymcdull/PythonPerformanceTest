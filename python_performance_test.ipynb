{
 "cells": [
  {
   "cell_type": "code",
   "execution_count": 1,
   "metadata": {
    "collapsed": false
   },
   "outputs": [
    {
     "name": "stdout",
     "output_type": "stream",
     "text": [
      "['a', 'b', 'is', 'python', 'jason', 'hello', 'hill', 'with', 'phone', 'test', 'dfdf', 'apple', 'pddf', 'ind', 'basic', 'none', 'baecr', 'var', 'bana', 'dd', 'wrd']\n",
      "total run time:\n",
      "1.77059698105\n"
     ]
    }
   ],
   "source": [
    "from time import time \n",
    "t = time() \n",
    "alist = ['a','b','is','python','jason','hello','hill','with','phone','test', \n",
    "'dfdf','apple','pddf','ind','basic','none','baecr','var','bana','dd','wrd'] \n",
    "#list = dict.fromkeys(list,True) \n",
    "print alist \n",
    "filter = [] \n",
    "for i in range (1000000): \n",
    "    for find in ['is','hat','new','list','old','.']: \n",
    "        if find not in alist: \n",
    "            filter.append(find) \n",
    "print \"total run time:\"\n",
    "print time()-t"
   ]
  },
  {
   "cell_type": "markdown",
   "metadata": {},
   "source": [
    "## Use set to do union compared with list"
   ]
  },
  {
   "cell_type": "code",
   "execution_count": 2,
   "metadata": {
    "collapsed": false
   },
   "outputs": [
    {
     "name": "stdout",
     "output_type": "stream",
     "text": [
      "total run time:\n",
      "5.37326312065\n"
     ]
    }
   ],
   "source": [
    "from time import time \n",
    "t = time() \n",
    "lista=[1,2,3,4,5,6,7,8,9,13,34,53,42,44] \n",
    "listb=[2,4,6,9,23] \n",
    "intersection=[] \n",
    "for i in range (1000000): \n",
    "    for a in lista: \n",
    "        for b in listb: \n",
    "            if a == b: \n",
    "                intersection.append(a) \n",
    "\n",
    "\n",
    "print \"total run time:\"\n",
    "print time()-t"
   ]
  },
  {
   "cell_type": "code",
   "execution_count": 3,
   "metadata": {
    "collapsed": false
   },
   "outputs": [
    {
     "name": "stdout",
     "output_type": "stream",
     "text": [
      "total run time:\n",
      "1.47022891045\n"
     ]
    }
   ],
   "source": [
    "from time import time \n",
    "t = time() \n",
    "lista=[1,2,3,4,5,6,7,8,9,13,34,53,42,44] \n",
    "listb=[2,4,6,9,23] \n",
    "intersection=[] \n",
    "for i in range (1000000):\n",
    "    list(set(lista)&set(listb))\n",
    "print \"total run time:\"\n",
    "print time()-t"
   ]
  },
  {
   "cell_type": "markdown",
   "metadata": {},
   "source": [
    "## Optimization for loops"
   ]
  },
  {
   "cell_type": "code",
   "execution_count": 4,
   "metadata": {
    "collapsed": false
   },
   "outputs": [
    {
     "name": "stdout",
     "output_type": "stream",
     "text": [
      "total run time:\n",
      "1.72019004822\n"
     ]
    }
   ],
   "source": [
    "from time import time \n",
    "t = time() \n",
    "lista = [1,2,3,4,5,6,7,8,9,10] \n",
    "listb =[0.1,0.2,0.3,0.4,0.5,0.6,0.7,0.8,0.9,0.01] \n",
    "for i in range (100000): \n",
    "     for a in range(len(lista)): \n",
    "             for b in range(len(listb)): \n",
    "                     x=lista[a]+listb[b] \n",
    "print \"total run time:\"\n",
    "print time()-t"
   ]
  },
  {
   "cell_type": "code",
   "execution_count": 5,
   "metadata": {
    "collapsed": true
   },
   "outputs": [],
   "source": [
    "## Replace range with xrange to save time\n",
    "## Notice that xrange does not exist in Python 3 any more !!!"
   ]
  },
  {
   "cell_type": "code",
   "execution_count": 6,
   "metadata": {
    "collapsed": false
   },
   "outputs": [
    {
     "name": "stdout",
     "output_type": "stream",
     "text": [
      "total run time:\n",
      "1.60459709167\n"
     ]
    }
   ],
   "source": [
    "from time import time \n",
    "t = time() \n",
    "lista = [1,2,3,4,5,6,7,8,9,10] \n",
    "listb =[0.1,0.2,0.3,0.4,0.5,0.6,0.7,0.8,0.9,0.01] \n",
    "for i in xrange (100000): \n",
    "     for a in xrange(len(lista)): \n",
    "             for b in xrange(len(listb)): \n",
    "                     x=lista[a]+listb[b] \n",
    "print \"total run time:\"\n",
    "print time()-t"
   ]
  },
  {
   "cell_type": "code",
   "execution_count": 7,
   "metadata": {
    "collapsed": true
   },
   "outputs": [],
   "source": [
    "## define value outside of loop to avoid repeated parameter calling"
   ]
  },
  {
   "cell_type": "code",
   "execution_count": 8,
   "metadata": {
    "collapsed": false
   },
   "outputs": [
    {
     "name": "stdout",
     "output_type": "stream",
     "text": [
      "total run time:\n",
      "1.64151597023\n"
     ]
    }
   ],
   "source": [
    "from time import time \n",
    "t = time() \n",
    "lista = [1,2,3,4,5,6,7,8,9,10] \n",
    "listb =[0.1,0.2,0.3,0.4,0.5,0.6,0.7,0.8,0.9,0.01] \n",
    "len_lista = len(lista)\n",
    "len_listb = len(listb)\n",
    "for i in xrange (100000): \n",
    "    for a in xrange(len_lista): \n",
    "        temp = lista[a]\n",
    "        for b in xrange(len_listb): \n",
    "            x=temp+listb[b] \n",
    "print \"total run time:\"\n",
    "print time()-t"
   ]
  },
  {
   "cell_type": "markdown",
   "metadata": {},
   "source": [
    "## Lazy if-evaluation"
   ]
  },
  {
   "cell_type": "code",
   "execution_count": 9,
   "metadata": {
    "collapsed": false
   },
   "outputs": [
    {
     "name": "stdout",
     "output_type": "stream",
     "text": [
      "total run time:\n",
      "1.37475013733\n"
     ]
    }
   ],
   "source": [
    "from time import time \n",
    "t = time() \n",
    "abbreviations = ['cf.', 'e.g.', 'ex.', 'etc.', 'fig.', 'i.e.', 'Mr.', 'vs.'] \n",
    "for i in range (1000000): \n",
    "    for w in ('Mr.', 'Hat', 'is', 'chasing', 'the', 'black', 'cat', '.'): \n",
    "        if w in abbreviations: \n",
    "        #if w[-1] == '.' and w in abbreviations: \n",
    "            pass \n",
    "print \"total run time:\"\n",
    "print time()-t"
   ]
  },
  {
   "cell_type": "code",
   "execution_count": 10,
   "metadata": {
    "collapsed": false
   },
   "outputs": [
    {
     "name": "stdout",
     "output_type": "stream",
     "text": [
      "total run time:\n",
      "1.03533005714\n"
     ]
    }
   ],
   "source": [
    "from time import time \n",
    "t = time() \n",
    "abbreviations = ['cf.', 'e.g.', 'ex.', 'etc.', 'fig.', 'i.e.', 'Mr.', 'vs.'] \n",
    "for i in range (1000000): \n",
    "    for w in ('Mr.', 'Hat', 'is', 'chasing', 'the', 'black', 'cat', '.'): \n",
    "#         if w in abbreviations: \n",
    "        if w[-1] == '.' and w in abbreviations: \n",
    "            pass \n",
    "print \"total run time:\"\n",
    "print time()-t"
   ]
  },
  {
   "cell_type": "markdown",
   "metadata": {},
   "source": [
    "## Use join instead of \"+\" to combine strings"
   ]
  },
  {
   "cell_type": "code",
   "execution_count": 11,
   "metadata": {
    "collapsed": false
   },
   "outputs": [
    {
     "name": "stdout",
     "output_type": "stream",
     "text": [
      "total run time:\n",
      "0.243246078491\n"
     ]
    }
   ],
   "source": [
    "from time import time \n",
    "\n",
    "t = time() \n",
    "s = \"\"\n",
    "alist = ['a','b','b','d','e','f','g','h','i','j','k','l','m','n'] \n",
    "for i in range (100000): \n",
    "    for substr in alist: \n",
    "        s+= substr\n",
    "print \"total run time:\"\n",
    "print time()-t"
   ]
  },
  {
   "cell_type": "code",
   "execution_count": 12,
   "metadata": {
    "collapsed": false
   },
   "outputs": [
    {
     "name": "stdout",
     "output_type": "stream",
     "text": [
      "total run time:\n",
      "0.0352032184601\n"
     ]
    }
   ],
   "source": [
    "from time import time \n",
    "\n",
    "t = time() \n",
    "s = \"\"\n",
    "alist = ['a','b','b','d','e','f','g','h','i','j','k','l','m','n'] \n",
    "for i in range (100000):\n",
    "    s = \"\".join(alist)\n",
    "#     for substr in alist: \n",
    "#         s+= substr\n",
    "print \"total run time:\"\n",
    "print time()-t"
   ]
  },
  {
   "cell_type": "markdown",
   "metadata": {},
   "source": [
    "## Use list comprehension and generator expression"
   ]
  },
  {
   "cell_type": "code",
   "execution_count": 13,
   "metadata": {
    "collapsed": false
   },
   "outputs": [
    {
     "name": "stdout",
     "output_type": "stream",
     "text": [
      "total run time:\n",
      "2.36328601837\n"
     ]
    }
   ],
   "source": [
    "from time import time \n",
    "t = time() \n",
    "alist = ['a','b','is','python','jason','hello','hill','with','phone','test', \n",
    "'dfdf','apple','pddf','ind','basic','none','baecr','var','bana','dd','wrd'] \n",
    "total=[] \n",
    "for i in range (1000000): \n",
    "    for w in alist: \n",
    "        total.append(w) \n",
    "print \"total run time:\"\n",
    "print time()-t"
   ]
  },
  {
   "cell_type": "code",
   "execution_count": 14,
   "metadata": {
    "collapsed": true
   },
   "outputs": [],
   "source": [
    "## use list comprehension"
   ]
  },
  {
   "cell_type": "code",
   "execution_count": 15,
   "metadata": {
    "collapsed": false
   },
   "outputs": [
    {
     "name": "stdout",
     "output_type": "stream",
     "text": [
      "total run time:\n",
      "1.51178097725\n"
     ]
    }
   ],
   "source": [
    "from time import time \n",
    "t = time() \n",
    "alist = ['a','b','is','python','jason','hello','hill','with','phone','test', \n",
    "'dfdf','apple','pddf','ind','basic','none','baecr','var','bana','dd','wrd'] \n",
    "total=[] \n",
    "for i in range (1000000): \n",
    "    total = [w for w in alist]\n",
    "#     for w in list: \n",
    "#         total.append(w) \n",
    "print \"total run time:\"\n",
    "print time()-t"
   ]
  },
  {
   "cell_type": "code",
   "execution_count": 16,
   "metadata": {
    "collapsed": false
   },
   "outputs": [
    {
     "data": {
      "text/plain": [
       "list"
      ]
     },
     "execution_count": 16,
     "metadata": {},
     "output_type": "execute_result"
    }
   ],
   "source": [
    "type(total)"
   ]
  },
  {
   "cell_type": "code",
   "execution_count": 17,
   "metadata": {
    "collapsed": true
   },
   "outputs": [],
   "source": [
    "## use generator expression"
   ]
  },
  {
   "cell_type": "code",
   "execution_count": 18,
   "metadata": {
    "collapsed": true
   },
   "outputs": [],
   "source": [
    "## It returns a generator instead of a list!!!"
   ]
  },
  {
   "cell_type": "code",
   "execution_count": 19,
   "metadata": {
    "collapsed": false
   },
   "outputs": [
    {
     "name": "stdout",
     "output_type": "stream",
     "text": [
      "total run time:\n",
      "0.459216833115\n"
     ]
    }
   ],
   "source": [
    "from time import time \n",
    "t = time() \n",
    "alist = ['a','b','is','python','jason','hello','hill','with','phone','test', \n",
    "'dfdf','apple','pddf','ind','basic','none','baecr','var','bana','dd','wrd'] \n",
    "total=[] \n",
    "for i in range (1000000): \n",
    "    total = (w for w in alist)\n",
    "#     for w in list: \n",
    "#         total.append(w) \n",
    "print \"total run time:\"\n",
    "print time()-t"
   ]
  },
  {
   "cell_type": "code",
   "execution_count": 20,
   "metadata": {
    "collapsed": false
   },
   "outputs": [
    {
     "data": {
      "text/plain": [
       "generator"
      ]
     },
     "execution_count": 20,
     "metadata": {},
     "output_type": "execute_result"
    }
   ],
   "source": [
    "type(total)"
   ]
  },
  {
   "cell_type": "markdown",
   "metadata": {},
   "source": [
    "## Swap variables"
   ]
  },
  {
   "cell_type": "code",
   "execution_count": 21,
   "metadata": {
    "collapsed": false
   },
   "outputs": [
    {
     "name": "stdout",
     "output_type": "stream",
     "text": [
      "total run time:\n",
      "0.153458833694\n"
     ]
    }
   ],
   "source": [
    "from time import time \n",
    "a = 1\n",
    "b = 2\n",
    "\n",
    "t = time() \n",
    "\n",
    "for i in range(1000000):\n",
    "    tmp = a\n",
    "    a = b\n",
    "    b = tmp\n",
    "print \"total run time:\"\n",
    "print time()-t\n"
   ]
  },
  {
   "cell_type": "code",
   "execution_count": 22,
   "metadata": {
    "collapsed": false
   },
   "outputs": [
    {
     "name": "stdout",
     "output_type": "stream",
     "text": [
      "total run time:\n",
      "0.137149810791\n"
     ]
    }
   ],
   "source": [
    "from time import time \n",
    "a = 1\n",
    "b = 2\n",
    "\n",
    "t = time() \n",
    "\n",
    "for i in range(1000000):\n",
    "    a, b = b, a\n",
    "print \"total run time:\"\n",
    "print time()-t\n"
   ]
  },
  {
   "cell_type": "markdown",
   "metadata": {
    "collapsed": true
   },
   "source": [
    "## Use 'is not' instead of '!='"
   ]
  },
  {
   "cell_type": "code",
   "execution_count": 24,
   "metadata": {
    "collapsed": false
   },
   "outputs": [
    {
     "name": "stdout",
     "output_type": "stream",
     "text": [
      "total run time:\n",
      "0.0893888473511\n"
     ]
    }
   ],
   "source": [
    "from time import time \n",
    "a = 1\n",
    "t = time() \n",
    "\n",
    "for i in range(1000000):\n",
    "    if a != None:\n",
    "        pass\n",
    "    \n",
    "print \"total run time:\"\n",
    "print time()-t"
   ]
  },
  {
   "cell_type": "code",
   "execution_count": 25,
   "metadata": {
    "collapsed": false
   },
   "outputs": [
    {
     "name": "stdout",
     "output_type": "stream",
     "text": [
      "total run time:\n",
      "0.0687570571899\n"
     ]
    }
   ],
   "source": [
    "from time import time \n",
    "a = 1\n",
    "t = time() \n",
    "\n",
    "for i in range(1000000):\n",
    "    if a is not None:\n",
    "        pass\n",
    "    \n",
    "print \"total run time:\"\n",
    "print time()-t"
   ]
  },
  {
   "cell_type": "markdown",
   "metadata": {},
   "source": [
    "## Profilers"
   ]
  },
  {
   "cell_type": "code",
   "execution_count": 26,
   "metadata": {
    "collapsed": false
   },
   "outputs": [
    {
     "name": "stdout",
     "output_type": "stream",
     "text": [
      "1\n",
      "2\n",
      "6\n",
      "24\n",
      "120\n",
      "720\n",
      "5040\n",
      "40320\n",
      "362880\n",
      "3628800\n",
      "         192 function calls in 0.002 seconds\n",
      "\n",
      "   Ordered by: standard name\n",
      "\n",
      "   ncalls  tottime  percall  cumtime  percall filename:lineno(function)\n",
      "        1    0.000    0.000    0.000    0.000 :0(append)\n",
      "       20    0.000    0.000    0.001    0.000 :0(decode)\n",
      "        1    0.000    0.000    0.000    0.000 :0(get_ident)\n",
      "       20    0.000    0.000    0.000    0.000 :0(getpid)\n",
      "        1    0.000    0.000    0.000    0.000 :0(hasattr)\n",
      "       20    0.000    0.000    0.000    0.000 :0(isinstance)\n",
      "        1    0.000    0.000    0.000    0.000 :0(range)\n",
      "        1    0.000    0.000    0.000    0.000 :0(setprofile)\n",
      "       20    0.000    0.000    0.000    0.000 :0(utf_8_decode)\n",
      "       21    0.000    0.000    0.000    0.000 :0(write)\n",
      "        1    0.000    0.000    0.002    0.002 <ipython-input-26-cdbd5e1d6041>:2(profileTest)\n",
      "        1    0.000    0.000    0.002    0.002 <string>:1(<module>)\n",
      "        1    0.000    0.000    0.000    0.000 ioloop.py:928(add_callback)\n",
      "       20    0.000    0.000    0.000    0.000 iostream.py:227(_is_master_process)\n",
      "       20    0.000    0.000    0.001    0.000 iostream.py:240(_schedule_flush)\n",
      "       20    0.001    0.000    0.002    0.000 iostream.py:308(write)\n",
      "        1    0.000    0.000    0.000    0.000 posix.py:53(wake)\n",
      "        1    0.000    0.000    0.002    0.002 profile:0(profileTest())\n",
      "        0    0.000             0.000          profile:0(profiler)\n",
      "        1    0.000    0.000    0.000    0.000 stack_context.py:253(wrap)\n",
      "       20    0.000    0.000    0.000    0.000 utf_8.py:15(decode)\n",
      "\n",
      "\n"
     ]
    }
   ],
   "source": [
    "import profile \n",
    "def profileTest(): \n",
    "    Total =1; \n",
    "    for i in range(10): \n",
    "        Total=Total*(i+1) \n",
    "        print Total \n",
    "    return Total \n",
    "if __name__ == \"__main__\": \n",
    "    profile.run(\"profileTest()\")"
   ]
  }
 ],
 "metadata": {
  "kernelspec": {
   "display_name": "Python 2",
   "language": "python",
   "name": "python2"
  },
  "language_info": {
   "codemirror_mode": {
    "name": "ipython",
    "version": 2
   },
   "file_extension": ".py",
   "mimetype": "text/x-python",
   "name": "python",
   "nbconvert_exporter": "python",
   "pygments_lexer": "ipython2",
   "version": "2.7.6"
  }
 },
 "nbformat": 4,
 "nbformat_minor": 0
}
